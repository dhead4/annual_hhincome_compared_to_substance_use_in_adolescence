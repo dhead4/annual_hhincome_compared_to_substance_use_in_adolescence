{
 "cells": [
  {
   "cell_type": "markdown",
   "id": "9c05ab9e",
   "metadata": {},
   "source": [
    "# Analyzing data between household incomes and drug usage in adolescence: 2019\n",
    "\n",
    "## In order to compare the two sets of data, we want to first begin by acquiring the intended data to input into an Excel file.\n",
    "\n",
    "### After you've managed to do so, all we will need to do before we begin our graphing/analysis, is save the file as a \".csv\" file."
   ]
  },
  {
   "cell_type": "code",
   "execution_count": 18,
   "id": "1e438324",
   "metadata": {},
   "outputs": [
    {
     "data": {
      "text/plain": [
       "['.ipynb_checkpoints',\n",
       " 'annual_hh.i_to_montly_drug.u_adol-Copy1.ipynb',\n",
       " 'annual_hhi_to_montly_drugu_adol.ipynb',\n",
       " 'archive_hhi_wu_adol.ipynb',\n",
       " 'Code.PNG',\n",
       " 'hhincome_weed_adolesence.csv',\n",
       " 'hhincome_weed_adolesence.csv.xlsx',\n",
       " 'hhincome_weed_adolesence.png',\n",
       " 'hhincome_weed_adolesence.xlsx',\n",
       " 'hhincome_weed_adolesence_UPDATED.csv',\n",
       " 'hhi_r_alc_adol.png',\n",
       " 'hhi_r_cig_adol.png',\n",
       " 'hhi_r_weed_adol.png']"
      ]
     },
     "execution_count": 18,
     "metadata": {},
     "output_type": "execute_result"
    }
   ],
   "source": [
    "# To make sure we've done everything correctly so far, we want to first, view the file location and make sure we can access it in our Notebook\n",
    "\n",
    "from os import listdir\n",
    "listdir()"
   ]
  },
  {
   "cell_type": "markdown",
   "id": "93b04462",
   "metadata": {},
   "source": [
    "### Now that we know we have our Excel file accessible and in the correct location (saved as a .csv) we can import the document into our notebook with pandas."
   ]
  },
  {
   "cell_type": "code",
   "execution_count": 19,
   "id": "518b4887",
   "metadata": {},
   "outputs": [
    {
     "data": {
      "text/html": [
       "<div>\n",
       "<style scoped>\n",
       "    .dataframe tbody tr th:only-of-type {\n",
       "        vertical-align: middle;\n",
       "    }\n",
       "\n",
       "    .dataframe tbody tr th {\n",
       "        vertical-align: top;\n",
       "    }\n",
       "\n",
       "    .dataframe thead th {\n",
       "        text-align: right;\n",
       "    }\n",
       "</style>\n",
       "<table border=\"1\" class=\"dataframe\">\n",
       "  <thead>\n",
       "    <tr style=\"text-align: right;\">\n",
       "      <th></th>\n",
       "      <th>alphabetic_rank</th>\n",
       "      <th>state</th>\n",
       "      <th>weed_use</th>\n",
       "      <th>alc_use</th>\n",
       "      <th>cig_use</th>\n",
       "      <th>hh_income</th>\n",
       "    </tr>\n",
       "  </thead>\n",
       "  <tbody>\n",
       "    <tr>\n",
       "      <th>0</th>\n",
       "      <td>24</td>\n",
       "      <td>Mississippi</td>\n",
       "      <td>0.05</td>\n",
       "      <td>0.07</td>\n",
       "      <td>0.01</td>\n",
       "      <td>45500</td>\n",
       "    </tr>\n",
       "    <tr>\n",
       "      <th>1</th>\n",
       "      <td>18</td>\n",
       "      <td>Louisiana</td>\n",
       "      <td>0.05</td>\n",
       "      <td>0.08</td>\n",
       "      <td>0.03</td>\n",
       "      <td>52500</td>\n",
       "    </tr>\n",
       "    <tr>\n",
       "      <th>2</th>\n",
       "      <td>31</td>\n",
       "      <td>New Mexico</td>\n",
       "      <td>0.08</td>\n",
       "      <td>0.08</td>\n",
       "      <td>0.03</td>\n",
       "      <td>54000</td>\n",
       "    </tr>\n",
       "    <tr>\n",
       "      <th>3</th>\n",
       "      <td>48</td>\n",
       "      <td>West Virginia</td>\n",
       "      <td>0.06</td>\n",
       "      <td>0.09</td>\n",
       "      <td>0.03</td>\n",
       "      <td>54500</td>\n",
       "    </tr>\n",
       "    <tr>\n",
       "      <th>4</th>\n",
       "      <td>4</td>\n",
       "      <td>Arkansas</td>\n",
       "      <td>0.06</td>\n",
       "      <td>0.08</td>\n",
       "      <td>0.01</td>\n",
       "      <td>55000</td>\n",
       "    </tr>\n",
       "  </tbody>\n",
       "</table>\n",
       "</div>"
      ],
      "text/plain": [
       "   alphabetic_rank          state  weed_use  alc_use  cig_use  hh_income\n",
       "0               24    Mississippi      0.05     0.07     0.01      45500\n",
       "1               18      Louisiana      0.05     0.08     0.03      52500\n",
       "2               31     New Mexico      0.08     0.08     0.03      54000\n",
       "3               48  West Virginia      0.06     0.09     0.03      54500\n",
       "4                4       Arkansas      0.06     0.08     0.01      55000"
      ]
     },
     "execution_count": 19,
     "metadata": {},
     "output_type": "execute_result"
    }
   ],
   "source": [
    "import pandas as pd\n",
    "df = pd.read_csv('hhincome_weed_adolesence.csv')\n",
    "\n",
    "# Just to be extra sure, we can use df.head()\n",
    "#to display part of the data from the file\n",
    "\n",
    "df.head()\n",
    "\n",
    "# and just a clarifying detail, the weed usage \n",
    "#is displayed as a decimal rather than a percentage \n",
    "#and incomes are rounded to the nearest $500 for\n",
    "#cleaner data that's easier to use."
   ]
  },
  {
   "cell_type": "markdown",
   "id": "06456c08",
   "metadata": {},
   "source": [
    "### Now that we know we have the initial setup out of the way, we can now start on working it into a scatter plot with the help of matplotlib and numpy!"
   ]
  },
  {
   "cell_type": "code",
   "execution_count": 20,
   "id": "e7cf4452",
   "metadata": {},
   "outputs": [],
   "source": [
    "import matplotlib.pyplot as plt\n",
    "import numpy as np"
   ]
  },
  {
   "cell_type": "markdown",
   "id": "398af313",
   "metadata": {},
   "source": [
    "### Since we have now imported the ability to depict our data, the next step is to plot our x and y data onto a  scatter plot with a trendline!"
   ]
  },
  {
   "cell_type": "code",
   "execution_count": 21,
   "id": "0af8f839",
   "metadata": {},
   "outputs": [
    {
     "data": {
      "image/png": "[encoded data removed]",
      "text/plain": [
       "<Figure size 432x288 with 1 Axes>"
      ]
     },
     "metadata": {
      "needs_background": "light"
     },
     "output_type": "display_data"
    }
   ],
   "source": [
    "#First, we will want to determine our x & y variables\n",
    "\n",
    "x = list(df['hh_income'])\n",
    "y = list(df['weed_use'])\n",
    "labels = list(df.index)\n",
    "\n",
    "#Now you can plot you x & y on the graph\n",
    "#and work on adding axis titles\n",
    "\n",
    "plt.scatter(x,y)\n",
    "\n",
    "#With your titles, you can also adjust\n",
    "#the size of your text with ,fontsize = n\n",
    "\n",
    "plt.title('Figure 1',fontsize = 25)\n",
    "plt.xlabel('Household Income ($ annually)',fontsize = 15)\n",
    "plt.ylabel('Marijuana Usage (% monthly)',fontsize = 15)\n",
    "\n",
    "#Another thing you can fiddle with\n",
    "#on your graph are the tick marks\n",
    "#by plt.aticks\n",
    "\n",
    "plt.xticks(fontsize = 9)\n",
    "plt.yticks(fontsize = 9)\n",
    "\n",
    "#Last but not least, the trendline\n",
    "\n",
    "z = np.polyfit(x, y, 1)\n",
    "p = np.poly1d(z)\n",
    "plt.plot(x,p(x),\"r--\")\n",
    "\n",
    "#Finally you can save your figure and display\n",
    "#it right here in your notebook!\n",
    "\n",
    "plt.savefig('hhi_r_weed_adol.png', bbox_inches='tight', dpi=320)\n",
    "\n",
    "plt.show()"
   ]
  },
  {
   "cell_type": "markdown",
   "id": "30df5025",
   "metadata": {},
   "source": [
    "## Congrats, you now have a sweet scatter plot in your notebook!"
   ]
  },
  {
   "cell_type": "markdown",
   "id": "ba97855a",
   "metadata": {},
   "source": [
    "### One last thing you can do before finishing up, is checking the summary (regression analysis) of your scatter plot with the code listed below"
   ]
  },
  {
   "cell_type": "code",
   "execution_count": 22,
   "id": "dccc70d5",
   "metadata": {},
   "outputs": [
    {
     "name": "stdout",
     "output_type": "stream",
     "text": [
      "<statsmodels.regression.linear_model.OLS object at 0x000002DB43F919A0>\n",
      "<statsmodels.regression.linear_model.RegressionResultsWrapper object at 0x000002DB43FF28E0>\n",
      "                            OLS Regression Results                            \n",
      "==============================================================================\n",
      "Dep. Variable:              hh_income   R-squared:                       0.158\n",
      "Model:                            OLS   Adj. R-squared:                  0.141\n",
      "Method:                 Least Squares   F-statistic:                     9.016\n",
      "Date:                Wed, 16 Mar 2022   Prob (F-statistic):            0.00424\n",
      "Time:                        20:19:24   Log-Likelihood:                -533.56\n",
      "No. Observations:                  50   AIC:                             1071.\n",
      "Df Residuals:                      48   BIC:                             1075.\n",
      "Df Model:                           1                                         \n",
      "Covariance Type:            nonrobust                                         \n",
      "==============================================================================\n",
      "                 coef    std err          t      P>|t|      [0.025      0.975]\n",
      "------------------------------------------------------------------------------\n",
      "Intercept   5.339e+04   5790.172      9.221      0.000    4.17e+04     6.5e+04\n",
      "weed_use    2.476e+05   8.25e+04      3.003      0.004    8.18e+04    4.13e+05\n",
      "==============================================================================\n",
      "Omnibus:                        1.759   Durbin-Watson:                   0.321\n",
      "Prob(Omnibus):                  0.415   Jarque-Bera (JB):                1.421\n",
      "Skew:                           0.412   Prob(JB):                        0.491\n",
      "Kurtosis:                       2.934   Cond. No.                         55.0\n",
      "==============================================================================\n",
      "\n",
      "Notes:\n",
      "[1] Standard Errors assume that the covariance matrix of the errors is correctly specified.\n"
     ]
    }
   ],
   "source": [
    "#First we have to import the function\n",
    "#to asses the model\n",
    "\n",
    "import statsmodels.formula.api as smf\n",
    "\n",
    "#Now we will compare the two against each other\n",
    "\n",
    "model = smf.ols(formula='hh_income ~ weed_use',data=df)\n",
    "\n",
    "#Now print it out!\n",
    "\n",
    "print(model)\n",
    "results = model.fit()\n",
    "print(results)\n",
    "summary = results.summary()\n",
    "print(summary)"
   ]
  },
  {
   "cell_type": "markdown",
   "id": "a1097243",
   "metadata": {},
   "source": [
    "## So now that we have our first variable graphed against Income, now we will do the same thing for the other two.\n",
    "\n",
    "### The next one we will asses will be alcohol."
   ]
  },
  {
   "cell_type": "code",
   "execution_count": 23,
   "id": "063f609b",
   "metadata": {},
   "outputs": [
    {
     "data": {
      "image/png": "[encoded data removed]",
      "text/plain": [
       "<Figure size 432x288 with 1 Axes>"
      ]
     },
     "metadata": {
      "needs_background": "light"
     },
     "output_type": "display_data"
    }
   ],
   "source": [
    "#Like last time, we will want to determine\n",
    "#our x & y variables, which in this case,\n",
    "#x will stay the same\n",
    "\n",
    "x = list(df['hh_income'])\n",
    "y = list(df['alc_use'])\n",
    "labels = list(df.index)\n",
    "\n",
    "#Again, plot it like last time\n",
    "\n",
    "plt.scatter(x,y)\n",
    "\n",
    "#Add your titles and modify to your liking\n",
    "\n",
    "plt.title('Figure 2',fontsize = 25)\n",
    "plt.xlabel('Household Income ($ annually)',fontsize = 15)\n",
    "plt.ylabel('Alcohol Usage (% monthly)',fontsize = 15)\n",
    "\n",
    "plt.xticks(fontsize = 9)\n",
    "plt.yticks(fontsize = 9)\n",
    "\n",
    "#Don't forget the trendline\n",
    "\n",
    "z = np.polyfit(x, y, 1)\n",
    "p = np.poly1d(z)\n",
    "plt.plot(x,p(x),\"r--\")\n",
    "\n",
    "#Lastly, save your figure and take a look\n",
    "\n",
    "plt.savefig('hhi_r_alc_adol.png', bbox_inches='tight', dpi=320)\n",
    "\n",
    "plt.show()"
   ]
  },
  {
   "cell_type": "markdown",
   "id": "5b6a94f6",
   "metadata": {},
   "source": [
    "### Here's the regression analysis for alcohol:"
   ]
  },
  {
   "cell_type": "code",
   "execution_count": 24,
   "id": "19cb182a",
   "metadata": {},
   "outputs": [
    {
     "name": "stdout",
     "output_type": "stream",
     "text": [
      "<statsmodels.regression.linear_model.OLS object at 0x000002DB440E4520>\n",
      "<statsmodels.regression.linear_model.RegressionResultsWrapper object at 0x000002DB43FF21F0>\n",
      "                            OLS Regression Results                            \n",
      "==============================================================================\n",
      "Dep. Variable:              hh_income   R-squared:                       0.124\n",
      "Model:                            OLS   Adj. R-squared:                  0.106\n",
      "Method:                 Least Squares   F-statistic:                     6.812\n",
      "Date:                Wed, 16 Mar 2022   Prob (F-statistic):             0.0120\n",
      "Time:                        20:19:25   Log-Likelihood:                -534.55\n",
      "No. Observations:                  50   AIC:                             1073.\n",
      "Df Residuals:                      48   BIC:                             1077.\n",
      "Df Model:                           1                                         \n",
      "Covariance Type:            nonrobust                                         \n",
      "==============================================================================\n",
      "                 coef    std err          t      P>|t|      [0.025      0.975]\n",
      "------------------------------------------------------------------------------\n",
      "Intercept   4.093e+04   1.13e+04      3.619      0.001    1.82e+04    6.37e+04\n",
      "alc_use      3.25e+05   1.25e+05      2.610      0.012    7.46e+04    5.75e+05\n",
      "==============================================================================\n",
      "Omnibus:                        3.251   Durbin-Watson:                   0.277\n",
      "Prob(Omnibus):                  0.197   Jarque-Bera (JB):                2.603\n",
      "Skew:                           0.557   Prob(JB):                        0.272\n",
      "Kurtosis:                       3.093   Cond. No.                         81.8\n",
      "==============================================================================\n",
      "\n",
      "Notes:\n",
      "[1] Standard Errors assume that the covariance matrix of the errors is correctly specified.\n"
     ]
    }
   ],
   "source": [
    "#Compare alcohol now\n",
    "\n",
    "model = smf.ols(formula='hh_income ~ alc_use',data=df)\n",
    "\n",
    "print(model)\n",
    "results = model.fit()\n",
    "print(results)\n",
    "summary = results.summary()\n",
    "print(summary)"
   ]
  },
  {
   "cell_type": "code",
   "execution_count": 25,
   "id": "18da04fd",
   "metadata": {},
   "outputs": [
    {
     "data": {
      "image/png": "[encoded data removed]",
      "text/plain": [
       "<Figure size 432x288 with 1 Axes>"
      ]
     },
     "metadata": {
      "needs_background": "light"
     },
     "output_type": "display_data"
    }
   ],
   "source": [
    "#We'll change the y again,this time\n",
    "#to our cigarette variable and\n",
    "#x will stay the same\n",
    "\n",
    "x = list(df['hh_income'])\n",
    "y = list(df['cig_use'])\n",
    "labels = list(df.index)\n",
    "\n",
    "#Plot it back up\n",
    "\n",
    "plt.scatter(x,y)\n",
    "\n",
    "#Add your titles and make those adjustments\n",
    "\n",
    "plt.title('Figure 3',fontsize = 25)\n",
    "plt.xlabel('Household Income ($ annually)',fontsize = 15)\n",
    "plt.ylabel('Cigarette Usage (% monthly)',fontsize = 15)\n",
    "\n",
    "plt.xticks(fontsize = 9)\n",
    "plt.yticks(fontsize = 9)\n",
    "\n",
    "#The trendline\n",
    "\n",
    "z = np.polyfit(x, y, 1)\n",
    "p = np.poly1d(z)\n",
    "plt.plot(x,p(x),\"r--\")\n",
    "\n",
    "#Save it and display it!\n",
    "\n",
    "plt.savefig('hhi_r_cig_adol.png', bbox_inches='tight', dpi=320)\n",
    "\n",
    "plt.show()"
   ]
  },
  {
   "cell_type": "code",
   "execution_count": 26,
   "id": "010c80bb",
   "metadata": {},
   "outputs": [
    {
     "name": "stdout",
     "output_type": "stream",
     "text": [
      "<statsmodels.regression.linear_model.OLS object at 0x000002DB44158670>\n",
      "<statsmodels.regression.linear_model.RegressionResultsWrapper object at 0x000002DB43FD6670>\n",
      "                            OLS Regression Results                            \n",
      "==============================================================================\n",
      "Dep. Variable:              hh_income   R-squared:                       0.064\n",
      "Model:                            OLS   Adj. R-squared:                  0.044\n",
      "Method:                 Least Squares   F-statistic:                     3.278\n",
      "Date:                Wed, 16 Mar 2022   Prob (F-statistic):             0.0765\n",
      "Time:                        20:19:26   Log-Likelihood:                -536.21\n",
      "No. Observations:                  50   AIC:                             1076.\n",
      "Df Residuals:                      48   BIC:                             1080.\n",
      "Df Model:                           1                                         \n",
      "Covariance Type:            nonrobust                                         \n",
      "==============================================================================\n",
      "                 coef    std err          t      P>|t|      [0.025      0.975]\n",
      "------------------------------------------------------------------------------\n",
      "Intercept   6.429e+04   3621.627     17.751      0.000     5.7e+04    7.16e+04\n",
      "cig_use     2.655e+05   1.47e+05      1.810      0.076   -2.93e+04     5.6e+05\n",
      "==============================================================================\n",
      "Omnibus:                        0.772   Durbin-Watson:                   0.150\n",
      "Prob(Omnibus):                  0.680   Jarque-Bera (JB):                0.864\n",
      "Skew:                           0.206   Prob(JB):                        0.649\n",
      "Kurtosis:                       2.505   Cond. No.                         92.4\n",
      "==============================================================================\n",
      "\n",
      "Notes:\n",
      "[1] Standard Errors assume that the covariance matrix of the errors is correctly specified.\n"
     ]
    }
   ],
   "source": [
    "#and finally, a regression analysis for Cigarettes\n",
    "\n",
    "model = smf.ols(formula='hh_income ~ cig_use',data=df)\n",
    "\n",
    "print(model)\n",
    "results = model.fit()\n",
    "print(results)\n",
    "summary = results.summary()\n",
    "print(summary)"
   ]
  }
 ],
 "metadata": {
  "kernelspec": {
   "display_name": "Python 3 (ipykernel)",
   "language": "python",
   "name": "python3"
  },
  "language_info": {
   "codemirror_mode": {
    "name": "ipython",
    "version": 3
   },
   "file_extension": ".py",
   "mimetype": "text/x-python",
   "name": "python",
   "nbconvert_exporter": "python",
   "pygments_lexer": "ipython3",
   "version": "3.9.7"
  }
 },
 "nbformat": 4,
 "nbformat_minor": 5
}
