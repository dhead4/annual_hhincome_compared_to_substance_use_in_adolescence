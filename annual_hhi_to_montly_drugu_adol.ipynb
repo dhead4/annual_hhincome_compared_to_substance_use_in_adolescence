{
 "cells": [
  {
   "cell_type": "markdown",
   "id": "9c05ab9e",
   "metadata": {},
   "source": [
    "# Part 4: Analyzing data between household incomes and drug usage in adolescence (2019)\n",
    "\n",
    "## In order to compare the two sets of data, we want to first begin by acquiring the intended data to input into an Excel file.\n",
    "\n",
    "### After you've managed to do so, all we will need to do before we begin our graphing/analysis, is save the file as a \".csv\" file."
   ]
  },
  {
   "cell_type": "code",
   "execution_count": 2,
   "id": "1e438324",
   "metadata": {},
   "outputs": [
    {
     "data": {
      "text/plain": [
       "['.ipynb_checkpoints',\n",
       " 'annual_hh.i_to_montly_drug.u_adol-Copy1.ipynb',\n",
       " 'annual_hhi_to_montly_drugu_adol-Copy1.ipynb',\n",
       " 'annual_hhi_to_montly_drugu_adol.ipynb',\n",
       " 'archive_hhi_wu_adol.ipynb',\n",
       " 'Code.PNG',\n",
       " 'hhincome_weed_adolesence.csv',\n",
       " 'hhincome_weed_adolesence.csv.xlsx',\n",
       " 'hhincome_weed_adolesence.png',\n",
       " 'hhincome_weed_adolesence.xlsx',\n",
       " 'hhincome_weed_adolesence_UPDATED.csv',\n",
       " 'hhi_r_alc_adol.png',\n",
       " 'hhi_r_cig_adol.png',\n",
       " 'hhi_r_weed_adol.png',\n",
       " 'Important stuff for testing.PNG',\n",
       " 'more helpful refrence.PNG',\n",
       " 'R_analysis_alc.PNG',\n",
       " 'R_analysis_cig.PNG',\n",
       " 'R_analysis_weed.PNG']"
      ]
     },
     "execution_count": 2,
     "metadata": {},
     "output_type": "execute_result"
    }
   ],
   "source": [
    "# To make sure we've done everything correctly so far, we want to first, view the file location and make sure we can access it in our Notebook\n",
    "\n",
    "from os import listdir\n",
    "listdir()"
   ]
  },
  {
   "cell_type": "markdown",
   "id": "93b04462",
   "metadata": {},
   "source": [
    "### Now that we know we have our Excel file accessible and in the correct location (saved as a .csv) we can import the document into our notebook with pandas."
   ]
  },
  {
   "cell_type": "code",
   "execution_count": 3,
   "id": "518b4887",
   "metadata": {},
   "outputs": [
    {
     "data": {
      "text/html": [
       "<div>\n",
       "<style scoped>\n",
       "    .dataframe tbody tr th:only-of-type {\n",
       "        vertical-align: middle;\n",
       "    }\n",
       "\n",
       "    .dataframe tbody tr th {\n",
       "        vertical-align: top;\n",
       "    }\n",
       "\n",
       "    .dataframe thead th {\n",
       "        text-align: right;\n",
       "    }\n",
       "</style>\n",
       "<table border=\"1\" class=\"dataframe\">\n",
       "  <thead>\n",
       "    <tr style=\"text-align: right;\">\n",
       "      <th></th>\n",
       "      <th>alphabetic_rank</th>\n",
       "      <th>state</th>\n",
       "      <th>weed_use</th>\n",
       "      <th>alc_use</th>\n",
       "      <th>cig_use</th>\n",
       "      <th>hh_income</th>\n",
       "    </tr>\n",
       "  </thead>\n",
       "  <tbody>\n",
       "    <tr>\n",
       "      <th>0</th>\n",
       "      <td>24</td>\n",
       "      <td>Mississippi</td>\n",
       "      <td>0.05</td>\n",
       "      <td>0.07</td>\n",
       "      <td>0.01</td>\n",
       "      <td>45500</td>\n",
       "    </tr>\n",
       "    <tr>\n",
       "      <th>1</th>\n",
       "      <td>18</td>\n",
       "      <td>Louisiana</td>\n",
       "      <td>0.05</td>\n",
       "      <td>0.08</td>\n",
       "      <td>0.03</td>\n",
       "      <td>52500</td>\n",
       "    </tr>\n",
       "    <tr>\n",
       "      <th>2</th>\n",
       "      <td>31</td>\n",
       "      <td>New Mexico</td>\n",
       "      <td>0.08</td>\n",
       "      <td>0.08</td>\n",
       "      <td>0.03</td>\n",
       "      <td>54000</td>\n",
       "    </tr>\n",
       "    <tr>\n",
       "      <th>3</th>\n",
       "      <td>48</td>\n",
       "      <td>West Virginia</td>\n",
       "      <td>0.06</td>\n",
       "      <td>0.09</td>\n",
       "      <td>0.03</td>\n",
       "      <td>54500</td>\n",
       "    </tr>\n",
       "    <tr>\n",
       "      <th>4</th>\n",
       "      <td>4</td>\n",
       "      <td>Arkansas</td>\n",
       "      <td>0.06</td>\n",
       "      <td>0.08</td>\n",
       "      <td>0.01</td>\n",
       "      <td>55000</td>\n",
       "    </tr>\n",
       "  </tbody>\n",
       "</table>\n",
       "</div>"
      ],
      "text/plain": [
       "   alphabetic_rank          state  weed_use  alc_use  cig_use  hh_income\n",
       "0               24    Mississippi      0.05     0.07     0.01      45500\n",
       "1               18      Louisiana      0.05     0.08     0.03      52500\n",
       "2               31     New Mexico      0.08     0.08     0.03      54000\n",
       "3               48  West Virginia      0.06     0.09     0.03      54500\n",
       "4                4       Arkansas      0.06     0.08     0.01      55000"
      ]
     },
     "execution_count": 3,
     "metadata": {},
     "output_type": "execute_result"
    }
   ],
   "source": [
    "import pandas as pd\n",
    "df = pd.read_csv('hhincome_weed_adolesence.csv')\n",
    "\n",
    "# Just to be extra sure, we can use df.head()\n",
    "#to display part of the data from the file\n",
    "\n",
    "df.head()\n",
    "\n",
    "# and just a clarifying detail, the weed usage \n",
    "#is displayed as a decimal rather than a percentage \n",
    "#and incomes are rounded to the nearest $500 for\n",
    "#cleaner data that's easier to use."
   ]
  },
  {
   "cell_type": "markdown",
   "id": "06456c08",
   "metadata": {},
   "source": [
    "### Now that we know we have the initial setup out of the way, we can now start on working it into a scatter plot with the help of matplotlib and numpy!"
   ]
  },
  {
   "cell_type": "code",
   "execution_count": 4,
   "id": "e7cf4452",
   "metadata": {},
   "outputs": [],
   "source": [
    "import matplotlib.pyplot as plt\n",
    "import numpy as np"
   ]
  },
  {
   "cell_type": "markdown",
   "id": "398af313",
   "metadata": {},
   "source": [
    "### Since we have now imported the ability to depict our data, the next step is to plot our x and y data onto a  scatter plot with a trendline!"
   ]
  },
  {
   "cell_type": "code",
   "execution_count": 14,
   "id": "0af8f839",
   "metadata": {},
   "outputs": [
    {
     "data": {
      "image/png": "[encoded data removed]",
      "text/plain": [
       "<Figure size 432x288 with 1 Axes>"
      ]
     },
     "metadata": {
      "needs_background": "light"
     },
     "output_type": "display_data"
    }
   ],
   "source": [
    "#First, we will want to determine our x & y variables\n",
    "\n",
    "x = list(df['hh_income'])\n",
    "y = list(df['weed_use'])\n",
    "labels = list(df.index)\n",
    "\n",
    "#Now you can plot you x & y on the graph\n",
    "#and work on adding axis titles\n",
    "\n",
    "plt.scatter(x,y)\n",
    "\n",
    "#With your titles, you can also adjust\n",
    "#the size of your text with ,fontsize = n\n",
    "\n",
    "plt.title('Fig. 15: Annual Household Income related to Marijuana Usage in Adolescence (12-17)',fontsize = 12.5)\n",
    "plt.xlabel('Household Income ($ annually)',fontsize = 15)\n",
    "plt.ylabel('Marijuana Usage (% monthly)',fontsize = 15)\n",
    "\n",
    "#Another thing you can fiddle with\n",
    "#on your graph are the tick marks\n",
    "#by plt.aticks\n",
    "\n",
    "plt.xticks(fontsize = 9)\n",
    "plt.yticks(fontsize = 9)\n",
    "\n",
    "#Last but not least, the trendline\n",
    "\n",
    "z = np.polyfit(x, y, 1)\n",
    "p = np.poly1d(z)\n",
    "plt.plot(x,p(x),\"r--\")\n",
    "\n",
    "#Finally you can save your figure and display\n",
    "#it right here in your notebook!\n",
    "\n",
    "plt.savefig('hhi_r_weed_adol.png', bbox_inches='tight', dpi=320)\n",
    "\n",
    "plt.show()"
   ]
  },
  {
   "cell_type": "markdown",
   "id": "30df5025",
   "metadata": {},
   "source": [
    "## Congrats, you now have a sweet scatter plot in your notebook!"
   ]
  },
  {
   "cell_type": "markdown",
   "id": "ba97855a",
   "metadata": {},
   "source": [
    "### One last thing you can do before finishing up, is checking the summary (regression analysis) of your scatter plot with the code listed below"
   ]
  },
  {
   "cell_type": "code",
   "execution_count": 6,
   "id": "00b9fa17",
   "metadata": {},
   "outputs": [
    {
     "name": "stdout",
     "output_type": "stream",
     "text": [
      "<statsmodels.regression.linear_model.OLS object at 0x0000018DCF770430>\n",
      "<statsmodels.regression.linear_model.RegressionResultsWrapper object at 0x0000018DCEA02F40>\n",
      "                            OLS Regression Results                            \n",
      "==============================================================================\n",
      "Dep. Variable:               weed_use   R-squared:                       0.158\n",
      "Model:                            OLS   Adj. R-squared:                  0.141\n",
      "Method:                 Least Squares   F-statistic:                     9.016\n",
      "Date:                Thu, 17 Mar 2022   Prob (F-statistic):            0.00424\n",
      "Time:                        19:52:31   Log-Likelihood:                 133.53\n",
      "No. Observations:                  50   AIC:                            -263.1\n",
      "Df Residuals:                      48   BIC:                            -259.2\n",
      "Df Model:                           1                                         \n",
      "Covariance Type:            nonrobust                                         \n",
      "==============================================================================\n",
      "                 coef    std err          t      P>|t|      [0.025      0.975]\n",
      "------------------------------------------------------------------------------\n",
      "Intercept      0.0230      0.015      1.520      0.135      -0.007       0.053\n",
      "hh_income   6.386e-07   2.13e-07      3.003      0.004    2.11e-07    1.07e-06\n",
      "==============================================================================\n",
      "Omnibus:                        7.354   Durbin-Watson:                   1.765\n",
      "Prob(Omnibus):                  0.025   Jarque-Bera (JB):                6.543\n",
      "Skew:                           0.859   Prob(JB):                       0.0379\n",
      "Kurtosis:                       3.436   Cond. No.                     4.45e+05\n",
      "==============================================================================\n",
      "\n",
      "Notes:\n",
      "[1] Standard Errors assume that the covariance matrix of the errors is correctly specified.\n",
      "[2] The condition number is large, 4.45e+05. This might indicate that there are\n",
      "strong multicollinearity or other numerical problems.\n"
     ]
    }
   ],
   "source": [
    "###### First we have to import the function\n",
    "#to asses the model\n",
    "\n",
    "import statsmodels.formula.api as smf\n",
    "\n",
    "#Now we will compare the two against each other\n",
    "\n",
    "model = smf.ols(formula='weed_use ~ hh_income',data=df)\n",
    "\n",
    "#Now print it out!\n",
    "\n",
    "print(model)\n",
    "results = model.fit()\n",
    "print(results)\n",
    "summary = results.summary()\n",
    "print(summary)"
   ]
  },
  {
   "cell_type": "markdown",
   "id": "a1097243",
   "metadata": {},
   "source": [
    "## So now that we have our first variable graphed against Income, now we will do the same thing for the other two.\n",
    "\n",
    "### The next one we will asses will be alcohol."
   ]
  },
  {
   "cell_type": "code",
   "execution_count": 16,
   "id": "063f609b",
   "metadata": {},
   "outputs": [
    {
     "data": {
      "image/png": "[encoded data removed]",
      "text/plain": [
       "<Figure size 432x288 with 1 Axes>"
      ]
     },
     "metadata": {
      "needs_background": "light"
     },
     "output_type": "display_data"
    }
   ],
   "source": [
    "#Like last time, we will want to determine\n",
    "#our x & y variables, which in this case,\n",
    "#x will stay the same\n",
    "\n",
    "x = list(df['hh_income'])\n",
    "y = list(df['alc_use'])\n",
    "labels = list(df.index)\n",
    "\n",
    "#Again, plot it like last time\n",
    "\n",
    "plt.scatter(x,y)\n",
    "\n",
    "#Add your titles and modify to your liking\n",
    "\n",
    "plt.title('Fig. 16: Annual Household Income related to Alcohol Usage in Adolescence (12-17)',fontsize = 12.5)\n",
    "plt.xlabel('Household Income ($ annually)',fontsize = 15)\n",
    "plt.ylabel('Alcohol Usage (% monthly)',fontsize = 15)\n",
    "\n",
    "plt.xticks(fontsize = 9)\n",
    "plt.yticks(fontsize = 9)\n",
    "\n",
    "#Don't forget the trendline\n",
    "\n",
    "z = np.polyfit(x, y, 1)\n",
    "p = np.poly1d(z)\n",
    "plt.plot(x,p(x),\"r--\")\n",
    "\n",
    "#Lastly, save your figure and take a look\n",
    "\n",
    "plt.savefig('hhi_r_alc_adol.png', bbox_inches='tight', dpi=320)\n",
    "\n",
    "plt.show()"
   ]
  },
  {
   "cell_type": "markdown",
   "id": "5b6a94f6",
   "metadata": {},
   "source": [
    "### Here's the regression analysis for alcohol:"
   ]
  },
  {
   "cell_type": "code",
   "execution_count": 9,
   "id": "19cb182a",
   "metadata": {},
   "outputs": [
    {
     "name": "stdout",
     "output_type": "stream",
     "text": [
      "<statsmodels.regression.linear_model.OLS object at 0x0000018DD107A730>\n",
      "<statsmodels.regression.linear_model.RegressionResultsWrapper object at 0x0000018DCFEF5760>\n",
      "                            OLS Regression Results                            \n",
      "==============================================================================\n",
      "Dep. Variable:                alc_use   R-squared:                       0.124\n",
      "Model:                            OLS   Adj. R-squared:                  0.106\n",
      "Method:                 Least Squares   F-statistic:                     6.812\n",
      "Date:                Thu, 17 Mar 2022   Prob (F-statistic):             0.0120\n",
      "Time:                        19:52:55   Log-Likelihood:                 152.16\n",
      "No. Observations:                  50   AIC:                            -300.3\n",
      "Df Residuals:                      48   BIC:                            -296.5\n",
      "Df Model:                           1                                         \n",
      "Covariance Type:            nonrobust                                         \n",
      "==============================================================================\n",
      "                 coef    std err          t      P>|t|      [0.025      0.975]\n",
      "------------------------------------------------------------------------------\n",
      "Intercept      0.0632      0.010      6.064      0.000       0.042       0.084\n",
      "hh_income   3.824e-07   1.47e-07      2.610      0.012    8.78e-08    6.77e-07\n",
      "==============================================================================\n",
      "Omnibus:                        6.138   Durbin-Watson:                   2.105\n",
      "Prob(Omnibus):                  0.046   Jarque-Bera (JB):                5.014\n",
      "Skew:                           0.666   Prob(JB):                       0.0815\n",
      "Kurtosis:                       3.795   Cond. No.                     4.45e+05\n",
      "==============================================================================\n",
      "\n",
      "Notes:\n",
      "[1] Standard Errors assume that the covariance matrix of the errors is correctly specified.\n",
      "[2] The condition number is large, 4.45e+05. This might indicate that there are\n",
      "strong multicollinearity or other numerical problems.\n"
     ]
    }
   ],
   "source": [
    "#Compare alcohol now\n",
    "\n",
    "model = smf.ols(formula='alc_use ~ hh_income',data=df)\n",
    "\n",
    "print(model)\n",
    "results = model.fit()\n",
    "print(results)\n",
    "summary = results.summary()\n",
    "print(summary)"
   ]
  },
  {
   "cell_type": "code",
   "execution_count": 17,
   "id": "18da04fd",
   "metadata": {
    "scrolled": true
   },
   "outputs": [
    {
     "data": {
      "image/png": "[encoded data removed]",
      "text/plain": [
       "<Figure size 432x288 with 1 Axes>"
      ]
     },
     "metadata": {
      "needs_background": "light"
     },
     "output_type": "display_data"
    }
   ],
   "source": [
    "#We'll change the y again,this time\n",
    "#to our cigarette variable and\n",
    "#x will stay the same\n",
    "\n",
    "x = list(df['hh_income'])\n",
    "y = list(df['cig_use'])\n",
    "labels = list(df.index)\n",
    "\n",
    "#Plot it back up\n",
    "\n",
    "plt.scatter(x,y)\n",
    "\n",
    "#Add your titles and make those adjustments\n",
    "\n",
    "plt.title('Fig. 17: Annual Household Income related to Cigarette Usage in Adolescence (12-17)',fontsize = 12.5)\n",
    "plt.xlabel('Household Income ($ annually)',fontsize = 15)\n",
    "plt.ylabel('Cigarette Usage (% monthly)',fontsize = 15)\n",
    "\n",
    "plt.xticks(fontsize = 9)\n",
    "plt.yticks(fontsize = 9)\n",
    "\n",
    "#The trendline\n",
    "\n",
    "z = np.polyfit(x, y, 1)\n",
    "p = np.poly1d(z)\n",
    "plt.plot(x,p(x),\"r--\")\n",
    "\n",
    "#Save it and display it!\n",
    "\n",
    "plt.savefig('hhi_r_cig_adol.png', bbox_inches='tight', dpi=320)\n",
    "\n",
    "plt.show()"
   ]
  },
  {
   "cell_type": "code",
   "execution_count": 29,
   "id": "010c80bb",
   "metadata": {
    "scrolled": true
   },
   "outputs": [
    {
     "name": "stdout",
     "output_type": "stream",
     "text": [
      "<statsmodels.regression.linear_model.OLS object at 0x000002D867BDAEE0>\n",
      "<statsmodels.regression.linear_model.RegressionResultsWrapper object at 0x000002D867AF9640>\n",
      "                            OLS Regression Results                            \n",
      "==============================================================================\n",
      "Dep. Variable:                cig_use   R-squared:                       0.064\n",
      "Model:                            OLS   Adj. R-squared:                  0.044\n",
      "Method:                 Least Squares   F-statistic:                     3.278\n",
      "Date:                Wed, 16 Mar 2022   Prob (F-statistic):             0.0765\n",
      "Time:                        23:03:08   Log-Likelihood:                 157.00\n",
      "No. Observations:                  50   AIC:                            -310.0\n",
      "Df Residuals:                      48   BIC:                            -306.2\n",
      "Df Model:                           1                                         \n",
      "Covariance Type:            nonrobust                                         \n",
      "==============================================================================\n",
      "                 coef    std err          t      P>|t|      [0.025      0.975]\n",
      "------------------------------------------------------------------------------\n",
      "Intercept      0.0053      0.009      0.561      0.578      -0.014       0.024\n",
      "hh_income   2.408e-07   1.33e-07      1.810      0.076   -2.66e-08    5.08e-07\n",
      "==============================================================================\n",
      "Omnibus:                        5.705   Durbin-Watson:                   2.308\n",
      "Prob(Omnibus):                  0.058   Jarque-Bera (JB):                4.706\n",
      "Skew:                           0.721   Prob(JB):                       0.0951\n",
      "Kurtosis:                       3.426   Cond. No.                     4.45e+05\n",
      "==============================================================================\n",
      "\n",
      "Notes:\n",
      "[1] Standard Errors assume that the covariance matrix of the errors is correctly specified.\n",
      "[2] The condition number is large, 4.45e+05. This might indicate that there are\n",
      "strong multicollinearity or other numerical problems.\n"
     ]
    }
   ],
   "source": [
    "#and finally, a regression analysis for Cigarettes\n",
    "\n",
    "model = smf.ols(formula='cig_use ~ hh_income',data=df)\n",
    "\n",
    "print(model)\n",
    "results = model.fit()\n",
    "print(results)\n",
    "summary = results.summary()\n",
    "print(summary)"
   ]
  }
 ],
 "metadata": {
  "kernelspec": {
   "display_name": "Python 3 (ipykernel)",
   "language": "python",
   "name": "python3"
  },
  "language_info": {
   "codemirror_mode": {
    "name": "ipython",
    "version": 3
   },
   "file_extension": ".py",
   "mimetype": "text/x-python",
   "name": "python",
   "nbconvert_exporter": "python",
   "pygments_lexer": "ipython3",
   "version": "3.9.7"
  }
 },
 "nbformat": 4,
 "nbformat_minor": 5
}
